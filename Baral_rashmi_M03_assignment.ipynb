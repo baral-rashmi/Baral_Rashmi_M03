{
 "cells": [
  {
   "cell_type": "code",
   "execution_count": 12,
   "id": "d401c0dd",
   "metadata": {},
   "outputs": [
    {
     "name": "stdout",
     "output_type": "stream",
     "text": [
      "['mozarella', 'Cinderella', 'salmonella']\n",
      "['MOZARELLA', 'Cinderella', 'salmonella']\n",
      "['MOZARELLA', 'Cinderella']\n"
     ]
    }
   ],
   "source": [
    "\"\"\"\n",
    "Creating a list called \"things\" and updating different elements of the list into uppercase, capiltalize and deletion\n",
    "Rashmi Baral\n",
    "Things to do (7.4 to 7.7)\n",
    "\"\"\"\n",
    "things = [\"mozarella\",\"cinderella\",\"salmonella\"]\n",
    "# creating a list called things\n",
    "things[1]= things[1].capitalize()\n",
    "# capitalizes the element referring to a person\n",
    "print(things)\n",
    "# prints the updated list\n",
    "things[0]= things[0].upper()\n",
    "# capitalizing cheesy thing uppercase\n",
    "print(things)\n",
    "# prints the updated list\n",
    "things.remove(\"salmonella\")\n",
    "# removing salmnella disease from the list\n",
    "print(things)\n",
    "# prints the updated list"
   ]
  },
  {
   "cell_type": "code",
   "execution_count": 16,
   "id": "163a0eab",
   "metadata": {},
   "outputs": [
    {
     "name": "stdout",
     "output_type": "stream",
     "text": [
      "['Harry', 'Ron', 'Hermoine']\n"
     ]
    }
   ],
   "source": [
    "\"\"\"\n",
    "Calling a function to return a list of harry potter characters\n",
    "Rashmi Baral\n",
    "Things to do 9.1\n",
    "\"\"\"\n",
    "def good():\n",
    "# defining a function called good\n",
    "    return [\"Harry\", \"Ron\", \"Hermoine\"]\n",
    "# returning as list \n",
    "harry_potter_characters = good()\n",
    "# calling out a function\n",
    "print(harry_potter_characters)\n",
    "# prints the list\n"
   ]
  },
  {
   "cell_type": "code",
   "execution_count": 20,
   "id": "b9f53362",
   "metadata": {},
   "outputs": [
    {
     "name": "stdout",
     "output_type": "stream",
     "text": [
      "the third odd number is: 5\n"
     ]
    }
   ],
   "source": [
    "\"\"\"\n",
    "Using generator function to return odd numbers with in the range(10)\n",
    "Rashmi Baral\n",
    "\"\"\"\n",
    "def get_odds():\n",
    "    for number in range(1,10,2):\n",
    "#     generates odd numbers from 1 to 9\n",
    "        yield number\n",
    "# yeilds odd numbers \n",
    "\n",
    "count = 0\n",
    "# starting a counter variable to count number of times odd number is generated\n",
    "for odd_number in get_odds():\n",
    "# using for loop to find and print the third value resturned\n",
    "    count += 1\n",
    "    if count == 3:\n",
    "        print( \"the third odd number is:\", odd_number)\n",
    "        break \n",
    "    \n",
    "        "
   ]
  }
 ],
 "metadata": {
  "kernelspec": {
   "display_name": "Python 3 (ipykernel)",
   "language": "python",
   "name": "python3"
  },
  "language_info": {
   "codemirror_mode": {
    "name": "ipython",
    "version": 3
   },
   "file_extension": ".py",
   "mimetype": "text/x-python",
   "name": "python",
   "nbconvert_exporter": "python",
   "pygments_lexer": "ipython3",
   "version": "3.11.4"
  }
 },
 "nbformat": 4,
 "nbformat_minor": 5
}
