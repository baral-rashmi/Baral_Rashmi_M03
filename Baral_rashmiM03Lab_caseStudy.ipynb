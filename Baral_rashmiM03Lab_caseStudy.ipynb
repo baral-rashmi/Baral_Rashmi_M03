{
 "cells": [
  {
   "cell_type": "code",
   "execution_count": 2,
   "id": "4af330d1",
   "metadata": {},
   "outputs": [
    {
     "name": "stdout",
     "output_type": "stream",
     "text": [
      "Enter the year of the car: 2018\n",
      "Enter the make of the car: Toyota\n",
      "Enter the model of the car: Corolla\n",
      "Enter the number of doors (2 or 4): 4\n",
      "Enter the type of roof (solid or sun roof): sun roof\n",
      "\n",
      "Car Information:\n",
      "Vehicle type: car\n",
      "Year: 2018\n",
      "Make: Toyota\n",
      "Model: Corolla\n",
      "Number of doors: 4\n",
      "Type of roof: sun roof\n"
     ]
    }
   ],
   "source": [
    "\"\"\"\n",
    "Car Information App\n",
    "\n",
    "This application allows user to input detail information about their car and displays information accordingly\n",
    "\n",
    "Rashmi Baral\n",
    "\"\"\"\n",
    "# defining a base class called vehicle\n",
    "class Vehicle:\n",
    "    def __init__(self, vehicle_type):\n",
    "        self.vehicle_type = vehicle_type\n",
    "#defining a subclass called automobile     \n",
    "class Automobile(Vehicle):\n",
    "    def __init__(self):\n",
    "#         call the  constructor (__init__ method) of the superclass (Vehicle) within this subclass\n",
    "        super().__init__(\"car\")\n",
    "#     collects input information from the user \n",
    "        self.year = input(\"Enter the year of the car: \")\n",
    "        self.make = input(\"Enter the make of the car: \")\n",
    "        self.model = input(\"Enter the model of the car: \")\n",
    "        self.doors = input(\"Enter the number of doors (2 or 4): \")\n",
    "        self.roof = input(\"Enter the type of roof (solid or sun roof): \")\n",
    "\n",
    "# defining a method to diplay car information\n",
    "    def display_car_info(self):\n",
    "        print(\"Vehicle type:\", self.vehicle_type)\n",
    "        print(\"Year:\", self.year)\n",
    "        print(\"Make:\", self.make)\n",
    "        print(\"Model:\", self.model)\n",
    "        print(\"Number of doors:\", self.doors)\n",
    "        print(\"Type of roof:\", self.roof)\n",
    "        \n",
    "# Defining a main function\n",
    "def main():\n",
    "# Creating an instance of the Automobile class\n",
    "    car = Automobile()\n",
    "#to print a newline character followed by the text \"Car Information:\" \n",
    "    print(\"\\nCar Information:\")\n",
    "# to display details using display_car_info method\n",
    "    car.display_car_info()\n",
    "#checking if the script is being run directly, and if it is, it calls the main() function to start the program.\n",
    "if __name__ == \"__main__\":\n",
    "    main()\n"
   ]
  }
 ],
 "metadata": {
  "kernelspec": {
   "display_name": "Python 3 (ipykernel)",
   "language": "python",
   "name": "python3"
  },
  "language_info": {
   "codemirror_mode": {
    "name": "ipython",
    "version": 3
   },
   "file_extension": ".py",
   "mimetype": "text/x-python",
   "name": "python",
   "nbconvert_exporter": "python",
   "pygments_lexer": "ipython3",
   "version": "3.11.4"
  }
 },
 "nbformat": 4,
 "nbformat_minor": 5
}
